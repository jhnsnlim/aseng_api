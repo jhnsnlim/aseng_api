{
  "nbformat": 4,
  "nbformat_minor": 0,
  "metadata": {
    "colab": {
      "name": "BBCA.ipynb",
      "provenance": [],
      "collapsed_sections": [],
      "authorship_tag": "ABX9TyNwna14KbCDSDo7nrbaGYYJ",
      "include_colab_link": true
    },
    "kernelspec": {
      "name": "python3",
      "display_name": "Python 3"
    }
  },
  "cells": [
    {
      "cell_type": "markdown",
      "metadata": {
        "id": "view-in-github",
        "colab_type": "text"
      },
      "source": [
        "<a href=\"https://colab.research.google.com/github/jhnsnlim/aseng_api/blob/master/BBCA.ipynb\" target=\"_parent\"><img src=\"https://colab.research.google.com/assets/colab-badge.svg\" alt=\"Open In Colab\"/></a>"
      ]
    },
    {
      "cell_type": "code",
      "metadata": {
        "id": "LcGDP4TxU_2u",
        "colab_type": "code",
        "outputId": "fc6ef96e-66b0-4c8f-a1db-3033b8131145",
        "colab": {
          "base_uri": "https://localhost:8080/",
          "height": 88
        }
      },
      "source": [
        "#Import libraries\n",
        "import math\n",
        "import pandas_datareader as web\n",
        "import numpy as np\n",
        "import pandas as pd\n",
        "from sklearn.preprocessing import MinMaxScaler\n",
        "from keras.models import Sequential\n",
        "from keras.layers import Dense, LSTM\n",
        "import matplotlib.pyplot as plt\n",
        "plt.style.use('fivethirtyeight')"
      ],
      "execution_count": 2,
      "outputs": [
        {
          "output_type": "stream",
          "text": [
            "/usr/local/lib/python3.6/dist-packages/pandas_datareader/compat/__init__.py:7: FutureWarning: pandas.util.testing is deprecated. Use the functions in the public API at pandas.testing instead.\n",
            "  from pandas.util.testing import assert_frame_equal\n",
            "Using TensorFlow backend.\n"
          ],
          "name": "stderr"
        }
      ]
    },
    {
      "cell_type": "code",
      "metadata": {
        "id": "H07DYk8xWGuQ",
        "colab_type": "code",
        "outputId": "3ab4531a-edb3-424f-ddb7-c75579028a20",
        "colab": {
          "base_uri": "https://localhost:8080/",
          "height": 450
        }
      },
      "source": [
        "#Get the stock quote\n",
        "df = web.DataReader('BBCA.JK', data_source='yahoo', start='2015-01-01', end='2020-05-29')\n",
        "#Show the data\n",
        "df"
      ],
      "execution_count": 3,
      "outputs": [
        {
          "output_type": "execute_result",
          "data": {
            "text/html": [
              "<div>\n",
              "<style scoped>\n",
              "    .dataframe tbody tr th:only-of-type {\n",
              "        vertical-align: middle;\n",
              "    }\n",
              "\n",
              "    .dataframe tbody tr th {\n",
              "        vertical-align: top;\n",
              "    }\n",
              "\n",
              "    .dataframe thead th {\n",
              "        text-align: right;\n",
              "    }\n",
              "</style>\n",
              "<table border=\"1\" class=\"dataframe\">\n",
              "  <thead>\n",
              "    <tr style=\"text-align: right;\">\n",
              "      <th></th>\n",
              "      <th>High</th>\n",
              "      <th>Low</th>\n",
              "      <th>Open</th>\n",
              "      <th>Close</th>\n",
              "      <th>Volume</th>\n",
              "      <th>Adj Close</th>\n",
              "    </tr>\n",
              "    <tr>\n",
              "      <th>Date</th>\n",
              "      <th></th>\n",
              "      <th></th>\n",
              "      <th></th>\n",
              "      <th></th>\n",
              "      <th></th>\n",
              "      <th></th>\n",
              "    </tr>\n",
              "  </thead>\n",
              "  <tbody>\n",
              "    <tr>\n",
              "      <th>2015-01-02</th>\n",
              "      <td>13275.0</td>\n",
              "      <td>13150.0</td>\n",
              "      <td>13275.0</td>\n",
              "      <td>13225.0</td>\n",
              "      <td>5860500.0</td>\n",
              "      <td>12170.641602</td>\n",
              "    </tr>\n",
              "    <tr>\n",
              "      <th>2015-01-05</th>\n",
              "      <td>13200.0</td>\n",
              "      <td>13125.0</td>\n",
              "      <td>13150.0</td>\n",
              "      <td>13200.0</td>\n",
              "      <td>5086900.0</td>\n",
              "      <td>12147.634766</td>\n",
              "    </tr>\n",
              "    <tr>\n",
              "      <th>2015-01-06</th>\n",
              "      <td>13200.0</td>\n",
              "      <td>13000.0</td>\n",
              "      <td>13000.0</td>\n",
              "      <td>13100.0</td>\n",
              "      <td>9736300.0</td>\n",
              "      <td>12055.606445</td>\n",
              "    </tr>\n",
              "    <tr>\n",
              "      <th>2015-01-07</th>\n",
              "      <td>13200.0</td>\n",
              "      <td>13050.0</td>\n",
              "      <td>13050.0</td>\n",
              "      <td>13125.0</td>\n",
              "      <td>8066800.0</td>\n",
              "      <td>12078.613281</td>\n",
              "    </tr>\n",
              "    <tr>\n",
              "      <th>2015-01-08</th>\n",
              "      <td>13150.0</td>\n",
              "      <td>12975.0</td>\n",
              "      <td>13125.0</td>\n",
              "      <td>12975.0</td>\n",
              "      <td>10891400.0</td>\n",
              "      <td>11940.572266</td>\n",
              "    </tr>\n",
              "    <tr>\n",
              "      <th>...</th>\n",
              "      <td>...</td>\n",
              "      <td>...</td>\n",
              "      <td>...</td>\n",
              "      <td>...</td>\n",
              "      <td>...</td>\n",
              "      <td>...</td>\n",
              "    </tr>\n",
              "    <tr>\n",
              "      <th>2020-05-20</th>\n",
              "      <td>24000.0</td>\n",
              "      <td>23450.0</td>\n",
              "      <td>23600.0</td>\n",
              "      <td>23825.0</td>\n",
              "      <td>23831600.0</td>\n",
              "      <td>23825.000000</td>\n",
              "    </tr>\n",
              "    <tr>\n",
              "      <th>2020-05-26</th>\n",
              "      <td>25000.0</td>\n",
              "      <td>23875.0</td>\n",
              "      <td>23875.0</td>\n",
              "      <td>24850.0</td>\n",
              "      <td>35215300.0</td>\n",
              "      <td>24850.000000</td>\n",
              "    </tr>\n",
              "    <tr>\n",
              "      <th>2020-05-27</th>\n",
              "      <td>25000.0</td>\n",
              "      <td>24275.0</td>\n",
              "      <td>24850.0</td>\n",
              "      <td>24825.0</td>\n",
              "      <td>30350700.0</td>\n",
              "      <td>24825.000000</td>\n",
              "    </tr>\n",
              "    <tr>\n",
              "      <th>2020-05-28</th>\n",
              "      <td>26600.0</td>\n",
              "      <td>25000.0</td>\n",
              "      <td>25000.0</td>\n",
              "      <td>26475.0</td>\n",
              "      <td>45846600.0</td>\n",
              "      <td>26475.000000</td>\n",
              "    </tr>\n",
              "    <tr>\n",
              "      <th>2020-05-29</th>\n",
              "      <td>26475.0</td>\n",
              "      <td>25950.0</td>\n",
              "      <td>26475.0</td>\n",
              "      <td>25950.0</td>\n",
              "      <td>79882800.0</td>\n",
              "      <td>25950.000000</td>\n",
              "    </tr>\n",
              "  </tbody>\n",
              "</table>\n",
              "<p>1364 rows × 6 columns</p>\n",
              "</div>"
            ],
            "text/plain": [
              "               High      Low     Open    Close      Volume     Adj Close\n",
              "Date                                                                    \n",
              "2015-01-02  13275.0  13150.0  13275.0  13225.0   5860500.0  12170.641602\n",
              "2015-01-05  13200.0  13125.0  13150.0  13200.0   5086900.0  12147.634766\n",
              "2015-01-06  13200.0  13000.0  13000.0  13100.0   9736300.0  12055.606445\n",
              "2015-01-07  13200.0  13050.0  13050.0  13125.0   8066800.0  12078.613281\n",
              "2015-01-08  13150.0  12975.0  13125.0  12975.0  10891400.0  11940.572266\n",
              "...             ...      ...      ...      ...         ...           ...\n",
              "2020-05-20  24000.0  23450.0  23600.0  23825.0  23831600.0  23825.000000\n",
              "2020-05-26  25000.0  23875.0  23875.0  24850.0  35215300.0  24850.000000\n",
              "2020-05-27  25000.0  24275.0  24850.0  24825.0  30350700.0  24825.000000\n",
              "2020-05-28  26600.0  25000.0  25000.0  26475.0  45846600.0  26475.000000\n",
              "2020-05-29  26475.0  25950.0  26475.0  25950.0  79882800.0  25950.000000\n",
              "\n",
              "[1364 rows x 6 columns]"
            ]
          },
          "metadata": {
            "tags": []
          },
          "execution_count": 3
        }
      ]
    },
    {
      "cell_type": "code",
      "metadata": {
        "id": "VTj04o1CXd2S",
        "colab_type": "code",
        "outputId": "66fd994e-446f-4bf3-fe82-87f8967f4e1d",
        "colab": {
          "base_uri": "https://localhost:8080/",
          "height": 34
        }
      },
      "source": [
        "#Get the number of rows & columns\n",
        "df.shape"
      ],
      "execution_count": 4,
      "outputs": [
        {
          "output_type": "execute_result",
          "data": {
            "text/plain": [
              "(1364, 6)"
            ]
          },
          "metadata": {
            "tags": []
          },
          "execution_count": 4
        }
      ]
    },
    {
      "cell_type": "code",
      "metadata": {
        "id": "7k6GieY8Xnqh",
        "colab_type": "code",
        "outputId": "2a9aa974-a571-41ad-8fe1-d5f0b901ad25",
        "colab": {
          "base_uri": "https://localhost:8080/",
          "height": 558
        }
      },
      "source": [
        "#Visualize the closing price\n",
        "plt.figure(figsize=(16,8))\n",
        "plt.title('Close Price')\n",
        "plt.plot(df['Close'])\n",
        "plt.xlabel('Date', fontsize=18)\n",
        "plt.ylabel('Close Price IDR (Rp)', fontsize=18)\n",
        "plt.show()"
      ],
      "execution_count": 5,
      "outputs": [
        {
          "output_type": "display_data",
          "data": {
            "image/png": "[encoded data removed]",
            "text/plain": [
              "<Figure size 1152x576 with 1 Axes>"
            ]
          },
          "metadata": {
            "tags": []
          }
        }
      ]
    },
    {
      "cell_type": "code",
      "metadata": {
        "id": "LSq3OrRisaew",
        "colab_type": "code",
        "outputId": "376cb933-5a37-47f9-fa78-c0afb1b28a77",
        "colab": {
          "base_uri": "https://localhost:8080/",
          "height": 34
        }
      },
      "source": [
        "#Create new df with only close column\n",
        "data = df.filter(['Close'])\n",
        "#Convert to numpy array\n",
        "dataset = data.values\n",
        "#Get number of rows to train model\n",
        "training_data_len = math.ceil(len(dataset) * .8)\n",
        "training_data_len"
      ],
      "execution_count": 6,
      "outputs": [
        {
          "output_type": "execute_result",
          "data": {
            "text/plain": [
              "1092"
            ]
          },
          "metadata": {
            "tags": []
          },
          "execution_count": 6
        }
      ]
    },
    {
      "cell_type": "code",
      "metadata": {
        "id": "fOdwBrz0t2rR",
        "colab_type": "code",
        "outputId": "b4b9c57b-bb55-454c-ccb3-0e814bfabf3a",
        "colab": {
          "base_uri": "https://localhost:8080/",
          "height": 136
        }
      },
      "source": [
        "#Scale the data\n",
        "scaler = MinMaxScaler(feature_range=(0,1))\n",
        "scaled_data = scaler.fit_transform(dataset)\n",
        "scaled_data"
      ],
      "execution_count": 7,
      "outputs": [
        {
          "output_type": "execute_result",
          "data": {
            "text/plain": [
              "array([[0.08342362],\n",
              "       [0.0823402 ],\n",
              "       [0.0780065 ],\n",
              "       ...,\n",
              "       [0.58613218],\n",
              "       [0.65763814],\n",
              "       [0.63488624]])"
            ]
          },
          "metadata": {
            "tags": []
          },
          "execution_count": 7
        }
      ]
    },
    {
      "cell_type": "code",
      "metadata": {
        "id": "a2A_AX3FuZFH",
        "colab_type": "code",
        "outputId": "17fa8839-d06e-47e4-f0b5-3fabaec8bef9",
        "colab": {
          "base_uri": "https://localhost:8080/",
          "height": 255
        }
      },
      "source": [
        "#Create training data set & scaled training data set\n",
        "train_data = scaled_data[0:training_data_len, :]\n",
        "#Split data\n",
        "x_train = []\n",
        "y_train = []\n",
        "\n",
        "for i in range(60, len(train_data)):\n",
        "  x_train.append(train_data[i-60:i, 0])\n",
        "  y_train.append(train_data[i, 0])\n",
        "  if i<= 60:\n",
        "    print(x_train)\n",
        "    print(y_train)\n",
        "    print()"
      ],
      "execution_count": 8,
      "outputs": [
        {
          "output_type": "stream",
          "text": [
            "[array([0.08342362, 0.0823402 , 0.0780065 , 0.07908992, 0.07258938,\n",
            "       0.07042254, 0.07367281, 0.07367281, 0.07042254, 0.07150596,\n",
            "       0.07150596, 0.07367281, 0.07475623, 0.07692308, 0.0823402 ,\n",
            "       0.08775731, 0.08017335, 0.0823402 , 0.08559047, 0.08775731,\n",
            "       0.08992416, 0.08884074, 0.09534128, 0.11267606, 0.10400867,\n",
            "       0.10400867, 0.10834236, 0.10617551, 0.11375948, 0.11267606,\n",
            "       0.11809317, 0.11700975, 0.12026002, 0.12026002, 0.1191766 ,\n",
            "       0.11809317, 0.1191766 , 0.12134345, 0.12026002, 0.12134345,\n",
            "       0.12676056, 0.13434453, 0.13542795, 0.13867822, 0.14301192,\n",
            "       0.13326111, 0.13542795, 0.12892741, 0.12567714, 0.12134345,\n",
            "       0.12351029, 0.12134345, 0.12676056, 0.12784399, 0.13109426,\n",
            "       0.13651138, 0.14084507, 0.14409534, 0.13976165, 0.13651138])]\n",
            "[0.13867822318526546]\n",
            "\n"
          ],
          "name": "stdout"
        }
      ]
    },
    {
      "cell_type": "code",
      "metadata": {
        "id": "x-XpIoJjvmJB",
        "colab_type": "code",
        "colab": {}
      },
      "source": [
        "#Convert x_train & y_train to np array\n",
        "x_train, y_train = np.array(x_train), np.array(y_train)\n"
      ],
      "execution_count": 0,
      "outputs": []
    },
    {
      "cell_type": "code",
      "metadata": {
        "id": "BjcsYWA5v3_d",
        "colab_type": "code",
        "outputId": "069d1563-a21e-4fdd-8af5-a377c11e1bb6",
        "colab": {
          "base_uri": "https://localhost:8080/",
          "height": 34
        }
      },
      "source": [
        "#Reshape the data\n",
        "x_train = np.reshape(x_train, (x_train.shape[0], x_train.shape[1], 1))\n",
        "x_train.shape"
      ],
      "execution_count": 10,
      "outputs": [
        {
          "output_type": "execute_result",
          "data": {
            "text/plain": [
              "(1032, 60, 1)"
            ]
          },
          "metadata": {
            "tags": []
          },
          "execution_count": 10
        }
      ]
    },
    {
      "cell_type": "code",
      "metadata": {
        "id": "DE2sFhP9wkDr",
        "colab_type": "code",
        "colab": {}
      },
      "source": [
        "#Build LSTM model\n",
        "model = Sequential()\n",
        "model.add(LSTM(50, return_sequences=True, input_shape=(x_train.shape[1], 1)))\n",
        "model.add(LSTM(50, return_sequences=False))\n",
        "model.add(Dense(25))\n",
        "model.add(Dense(1))\n"
      ],
      "execution_count": 0,
      "outputs": []
    },
    {
      "cell_type": "code",
      "metadata": {
        "id": "2AUCZQPSxTdL",
        "colab_type": "code",
        "colab": {}
      },
      "source": [
        "#Compile the Model\n",
        "model.compile(optimizer='adam', loss='mean_squared_error')\n"
      ],
      "execution_count": 0,
      "outputs": []
    },
    {
      "cell_type": "code",
      "metadata": {
        "id": "ZNxRirAdxjqC",
        "colab_type": "code",
        "outputId": "cf80eea3-80d6-43b4-ca15-1ac5aa059f71",
        "colab": {
          "base_uri": "https://localhost:8080/",
          "height": 68
        }
      },
      "source": [
        "#Train the Model\n",
        "model.fit(x_train, y_train, batch_size=1, epochs=1)"
      ],
      "execution_count": 13,
      "outputs": [
        {
          "output_type": "stream",
          "text": [
            "Epoch 1/1\n",
            "1032/1032 [==============================] - 37s 36ms/step - loss: 0.0014\n"
          ],
          "name": "stdout"
        },
        {
          "output_type": "execute_result",
          "data": {
            "text/plain": [
              "<keras.callbacks.callbacks.History at 0x7fa440893518>"
            ]
          },
          "metadata": {
            "tags": []
          },
          "execution_count": 13
        }
      ]
    },
    {
      "cell_type": "code",
      "metadata": {
        "id": "2I_2l5J7yDOi",
        "colab_type": "code",
        "colab": {}
      },
      "source": [
        "#Create testing data set\n",
        "test_data = scaled_data[training_data_len - 60:, :]\n",
        "#Create data sets x_test and y_test\n",
        "x_test = []\n",
        "y_test = dataset[training_data_len:, :]\n",
        "for i in range(60, len(test_data)):\n",
        "  x_test.append(test_data[i-60:i, 0])\n",
        "  "
      ],
      "execution_count": 0,
      "outputs": []
    },
    {
      "cell_type": "code",
      "metadata": {
        "id": "MaTMMQ3WyzaH",
        "colab_type": "code",
        "colab": {}
      },
      "source": [
        "#Convert data to np array\n",
        "x_test = np.array(x_test)"
      ],
      "execution_count": 0,
      "outputs": []
    },
    {
      "cell_type": "code",
      "metadata": {
        "id": "GY04z1_fy9Uf",
        "colab_type": "code",
        "colab": {}
      },
      "source": [
        "#Reshape the data\n",
        "x_test = np.reshape(x_test,(x_test.shape[0], x_test.shape[1], 1))"
      ],
      "execution_count": 0,
      "outputs": []
    },
    {
      "cell_type": "code",
      "metadata": {
        "id": "Wb7SF4TozQsi",
        "colab_type": "code",
        "colab": {}
      },
      "source": [
        "#Get the models predicted price values\n",
        "predictions = model.predict(x_test)\n",
        "predictions = scaler.inverse_transform(predictions)"
      ],
      "execution_count": 0,
      "outputs": []
    },
    {
      "cell_type": "code",
      "metadata": {
        "id": "vKEeH8JQzpD_",
        "colab_type": "code",
        "outputId": "1d82d7b4-5b02-4fcd-def8-be7ce3f4e53c",
        "colab": {
          "base_uri": "https://localhost:8080/",
          "height": 34
        }
      },
      "source": [
        "#Get the root mean sqaured error (RMSE)\n",
        "rmse = np.sqrt(np.mean(predictions - y_test)**2)\n",
        "rmse"
      ],
      "execution_count": 18,
      "outputs": [
        {
          "output_type": "execute_result",
          "data": {
            "text/plain": [
              "168.97088264016543"
            ]
          },
          "metadata": {
            "tags": []
          },
          "execution_count": 18
        }
      ]
    },
    {
      "cell_type": "code",
      "metadata": {
        "id": "T8vw9-p20CFg",
        "colab_type": "code",
        "outputId": "d6e3ce1f-603d-48da-e0c7-21338164a9c2",
        "colab": {
          "base_uri": "https://localhost:8080/",
          "height": 660
        }
      },
      "source": [
        "#Plot the data\n",
        "train = data[:training_data_len]\n",
        "valid = data[training_data_len:]\n",
        "valid['Predictions'] = predictions\n",
        "#Visualize the data\n",
        "plt.figure(figsize=(16,8))\n",
        "plt.title('Model')\n",
        "plt.xlabel('Date', fontsize=18)\n",
        "plt.ylabel('Close Price IDR (Rp)', fontsize=18)\n",
        "plt.plot(train['Close'])\n",
        "plt.plot(valid[['Close', 'Predictions']])\n",
        "plt.legend(['Train', 'Val', 'Predictions'], loc='lower right')\n",
        "plt.show()"
      ],
      "execution_count": 19,
      "outputs": [
        {
          "output_type": "stream",
          "text": [
            "/usr/local/lib/python3.6/dist-packages/ipykernel_launcher.py:4: SettingWithCopyWarning: \n",
            "A value is trying to be set on a copy of a slice from a DataFrame.\n",
            "Try using .loc[row_indexer,col_indexer] = value instead\n",
            "\n",
            "See the caveats in the documentation: https://pandas.pydata.org/pandas-docs/stable/user_guide/indexing.html#returning-a-view-versus-a-copy\n",
            "  after removing the cwd from sys.path.\n"
          ],
          "name": "stderr"
        },
        {
          "output_type": "display_data",
          "data": {
            "image/png": "[encoded data removed]",
            "text/plain": [
              "<Figure size 1152x576 with 1 Axes>"
            ]
          },
          "metadata": {
            "tags": []
          }
        }
      ]
    },
    {
      "cell_type": "code",
      "metadata": {
        "id": "1HvVYhvh1Y6-",
        "colab_type": "code",
        "outputId": "973d94bf-0352-4148-9e7a-e6b0137193fc",
        "colab": {
          "base_uri": "https://localhost:8080/",
          "height": 450
        }
      },
      "source": [
        "#Show the valid & predicted prices\n",
        "valid"
      ],
      "execution_count": 20,
      "outputs": [
        {
          "output_type": "execute_result",
          "data": {
            "text/html": [
              "<div>\n",
              "<style scoped>\n",
              "    .dataframe tbody tr th:only-of-type {\n",
              "        vertical-align: middle;\n",
              "    }\n",
              "\n",
              "    .dataframe tbody tr th {\n",
              "        vertical-align: top;\n",
              "    }\n",
              "\n",
              "    .dataframe thead th {\n",
              "        text-align: right;\n",
              "    }\n",
              "</style>\n",
              "<table border=\"1\" class=\"dataframe\">\n",
              "  <thead>\n",
              "    <tr style=\"text-align: right;\">\n",
              "      <th></th>\n",
              "      <th>Close</th>\n",
              "      <th>Predictions</th>\n",
              "    </tr>\n",
              "    <tr>\n",
              "      <th>Date</th>\n",
              "      <th></th>\n",
              "      <th></th>\n",
              "    </tr>\n",
              "  </thead>\n",
              "  <tbody>\n",
              "    <tr>\n",
              "      <th>2019-05-01</th>\n",
              "      <td>28750.0</td>\n",
              "      <td>28307.619141</td>\n",
              "    </tr>\n",
              "    <tr>\n",
              "      <th>2019-05-02</th>\n",
              "      <td>28425.0</td>\n",
              "      <td>28403.117188</td>\n",
              "    </tr>\n",
              "    <tr>\n",
              "      <th>2019-05-03</th>\n",
              "      <td>28375.0</td>\n",
              "      <td>28475.005859</td>\n",
              "    </tr>\n",
              "    <tr>\n",
              "      <th>2019-05-06</th>\n",
              "      <td>28100.0</td>\n",
              "      <td>28525.097656</td>\n",
              "    </tr>\n",
              "    <tr>\n",
              "      <th>2019-05-07</th>\n",
              "      <td>28300.0</td>\n",
              "      <td>28539.458984</td>\n",
              "    </tr>\n",
              "    <tr>\n",
              "      <th>...</th>\n",
              "      <td>...</td>\n",
              "      <td>...</td>\n",
              "    </tr>\n",
              "    <tr>\n",
              "      <th>2020-05-20</th>\n",
              "      <td>23825.0</td>\n",
              "      <td>25439.177734</td>\n",
              "    </tr>\n",
              "    <tr>\n",
              "      <th>2020-05-26</th>\n",
              "      <td>24850.0</td>\n",
              "      <td>25178.072266</td>\n",
              "    </tr>\n",
              "    <tr>\n",
              "      <th>2020-05-27</th>\n",
              "      <td>24825.0</td>\n",
              "      <td>25018.851562</td>\n",
              "    </tr>\n",
              "    <tr>\n",
              "      <th>2020-05-28</th>\n",
              "      <td>26475.0</td>\n",
              "      <td>24929.230469</td>\n",
              "    </tr>\n",
              "    <tr>\n",
              "      <th>2020-05-29</th>\n",
              "      <td>25950.0</td>\n",
              "      <td>25003.900391</td>\n",
              "    </tr>\n",
              "  </tbody>\n",
              "</table>\n",
              "<p>272 rows × 2 columns</p>\n",
              "</div>"
            ],
            "text/plain": [
              "              Close   Predictions\n",
              "Date                             \n",
              "2019-05-01  28750.0  28307.619141\n",
              "2019-05-02  28425.0  28403.117188\n",
              "2019-05-03  28375.0  28475.005859\n",
              "2019-05-06  28100.0  28525.097656\n",
              "2019-05-07  28300.0  28539.458984\n",
              "...             ...           ...\n",
              "2020-05-20  23825.0  25439.177734\n",
              "2020-05-26  24850.0  25178.072266\n",
              "2020-05-27  24825.0  25018.851562\n",
              "2020-05-28  26475.0  24929.230469\n",
              "2020-05-29  25950.0  25003.900391\n",
              "\n",
              "[272 rows x 2 columns]"
            ]
          },
          "metadata": {
            "tags": []
          },
          "execution_count": 20
        }
      ]
    },
    {
      "cell_type": "code",
      "metadata": {
        "id": "dgM97_ZG1m-z",
        "colab_type": "code",
        "outputId": "866f474c-038d-42d3-bd64-5c62ce2a15e5",
        "colab": {
          "base_uri": "https://localhost:8080/",
          "height": 34
        }
      },
      "source": [
        "#Get the quote\n",
        "bbca_quote = web.DataReader('BBCA.JK', data_source='yahoo', start='2015-01-01', end='2020-05-28')\n",
        "#create new df\n",
        "new_df = bbca_quote.filter(['Close'])\n",
        "#get the last 60 days closing price & convert df to an array\n",
        "last_60_days = new_df[-60:].values\n",
        "#scale the data to be values between 0 & 1\n",
        "last_60_days_scaled = scaler.transform(last_60_days)\n",
        "#create empty list\n",
        "X_test = []\n",
        "#Append the last 60 days\n",
        "X_test.append(last_60_days_scaled)\n",
        "#convert X_test to np array\n",
        "X_test = np.array(X_test)\n",
        "#Reshape the data\n",
        "X_test = np.reshape(X_test, (X_test.shape[0], X_test.shape[1], 1))\n",
        "#get predicted scaled price\n",
        "pred_price = model.predict(X_test)\n",
        "#undo the scaling\n",
        "pred_price = scaler.inverse_transform(pred_price)\n",
        "print(pred_price)"
      ],
      "execution_count": 22,
      "outputs": [
        {
          "output_type": "stream",
          "text": [
            "[[25133.2]]\n"
          ],
          "name": "stdout"
        }
      ]
    },
    {
      "cell_type": "code",
      "metadata": {
        "id": "WGUaUBxU4PPi",
        "colab_type": "code",
        "outputId": "e918cb9d-b284-4feb-8e04-c765ae5abb18",
        "colab": {
          "base_uri": "https://localhost:8080/",
          "height": 85
        }
      },
      "source": [
        "#Get the quote\n",
        "bbca_quote2 = web.DataReader('BBCA.JK', data_source='yahoo', start='2020-05-29', end='2020-05-29')\n",
        "print(bbca_quote2['Close'])"
      ],
      "execution_count": 24,
      "outputs": [
        {
          "output_type": "stream",
          "text": [
            "Date\n",
            "2020-05-29    25950\n",
            "2020-05-29    25950\n",
            "Name: Close, dtype: int64\n"
          ],
          "name": "stdout"
        }
      ]
    }
  ]
}
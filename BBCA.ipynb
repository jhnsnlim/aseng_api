{
  "nbformat": 4,
  "nbformat_minor": 0,
  "metadata": {
    "colab": {
      "name": "BBCA.ipynb",
      "provenance": [],
      "collapsed_sections": [],
      "authorship_tag": "ABX9TyNWuzeqH+aq56R0/b9p0xAA",
      "include_colab_link": true
    },
    "kernelspec": {
      "name": "python3",
      "display_name": "Python 3"
    }
  },
  "cells": [
    {
      "cell_type": "markdown",
      "metadata": {
        "id": "view-in-github",
        "colab_type": "text"
      },
      "source": [
        "<a href=\"https://colab.research.google.com/github/jhnsnlim/aseng_api/blob/master/BBCA.ipynb\" target=\"_parent\"><img src=\"https://colab.research.google.com/assets/colab-badge.svg\" alt=\"Open In Colab\"/></a>"
      ]
    },
    {
      "cell_type": "code",
      "metadata": {
        "id": "LcGDP4TxU_2u",
        "colab_type": "code",
        "colab": {
          "base_uri": "https://localhost:8080/",
          "height": 88
        },
        "outputId": "ad9df464-1e56-42c2-e8e9-c6e3c13248df"
      },
      "source": [
        "#Import libraries\n",
        "import math\n",
        "import pandas_datareader as web\n",
        "import numpy as np\n",
        "import pandas as pd\n",
        "from sklearn.preprocessing import MinMaxScaler\n",
        "from keras.models import Sequential\n",
        "from keras.layers import Dense, LSTM\n",
        "import matplotlib.pyplot as plt\n",
        "plt.style.use('fivethirtyeight')"
      ],
      "execution_count": 1,
      "outputs": [
        {
          "output_type": "stream",
          "text": [
            "/usr/local/lib/python3.6/dist-packages/pandas_datareader/compat/__init__.py:7: FutureWarning: pandas.util.testing is deprecated. Use the functions in the public API at pandas.testing instead.\n",
            "  from pandas.util.testing import assert_frame_equal\n",
            "Using TensorFlow backend.\n"
          ],
          "name": "stderr"
        }
      ]
    },
    {
      "cell_type": "code",
      "metadata": {
        "id": "H07DYk8xWGuQ",
        "colab_type": "code",
        "colab": {
          "base_uri": "https://localhost:8080/",
          "height": 450
        },
        "outputId": "0e4b5df9-7cf0-4485-d41f-388aabf9596c"
      },
      "source": [
        "#Get the stock quote\n",
        "df = web.DataReader('BBCA', data_source='yahoo', start='2015-01-01', end='2020-05-29')\n",
        "#Show the data\n",
        "df"
      ],
      "execution_count": 3,
      "outputs": [
        {
          "output_type": "execute_result",
          "data": {
            "text/html": [
              "<div>\n",
              "<style scoped>\n",
              "    .dataframe tbody tr th:only-of-type {\n",
              "        vertical-align: middle;\n",
              "    }\n",
              "\n",
              "    .dataframe tbody tr th {\n",
              "        vertical-align: top;\n",
              "    }\n",
              "\n",
              "    .dataframe thead th {\n",
              "        text-align: right;\n",
              "    }\n",
              "</style>\n",
              "<table border=\"1\" class=\"dataframe\">\n",
              "  <thead>\n",
              "    <tr style=\"text-align: right;\">\n",
              "      <th></th>\n",
              "      <th>High</th>\n",
              "      <th>Low</th>\n",
              "      <th>Open</th>\n",
              "      <th>Close</th>\n",
              "      <th>Volume</th>\n",
              "      <th>Adj Close</th>\n",
              "    </tr>\n",
              "    <tr>\n",
              "      <th>Date</th>\n",
              "      <th></th>\n",
              "      <th></th>\n",
              "      <th></th>\n",
              "      <th></th>\n",
              "      <th></th>\n",
              "      <th></th>\n",
              "    </tr>\n",
              "  </thead>\n",
              "  <tbody>\n",
              "    <tr>\n",
              "      <th>2018-08-09</th>\n",
              "      <td>24.709999</td>\n",
              "      <td>24.709999</td>\n",
              "      <td>24.709999</td>\n",
              "      <td>24.709999</td>\n",
              "      <td>0.0</td>\n",
              "      <td>23.665136</td>\n",
              "    </tr>\n",
              "    <tr>\n",
              "      <th>2018-08-10</th>\n",
              "      <td>24.730000</td>\n",
              "      <td>24.730000</td>\n",
              "      <td>24.730000</td>\n",
              "      <td>24.730000</td>\n",
              "      <td>200.0</td>\n",
              "      <td>23.684292</td>\n",
              "    </tr>\n",
              "    <tr>\n",
              "      <th>2018-08-13</th>\n",
              "      <td>24.629999</td>\n",
              "      <td>24.480000</td>\n",
              "      <td>24.580000</td>\n",
              "      <td>24.540001</td>\n",
              "      <td>6120300.0</td>\n",
              "      <td>23.502329</td>\n",
              "    </tr>\n",
              "    <tr>\n",
              "      <th>2018-08-14</th>\n",
              "      <td>24.870001</td>\n",
              "      <td>24.680000</td>\n",
              "      <td>24.680000</td>\n",
              "      <td>24.870001</td>\n",
              "      <td>18982500.0</td>\n",
              "      <td>23.818373</td>\n",
              "    </tr>\n",
              "    <tr>\n",
              "      <th>2018-08-15</th>\n",
              "      <td>24.530001</td>\n",
              "      <td>24.240000</td>\n",
              "      <td>24.400000</td>\n",
              "      <td>24.309999</td>\n",
              "      <td>13419300.0</td>\n",
              "      <td>23.282051</td>\n",
              "    </tr>\n",
              "    <tr>\n",
              "      <th>...</th>\n",
              "      <td>...</td>\n",
              "      <td>...</td>\n",
              "      <td>...</td>\n",
              "      <td>...</td>\n",
              "      <td>...</td>\n",
              "      <td>...</td>\n",
              "    </tr>\n",
              "    <tr>\n",
              "      <th>2020-05-22</th>\n",
              "      <td>21.209999</td>\n",
              "      <td>20.969999</td>\n",
              "      <td>21.070000</td>\n",
              "      <td>21.180000</td>\n",
              "      <td>199600.0</td>\n",
              "      <td>21.180000</td>\n",
              "    </tr>\n",
              "    <tr>\n",
              "      <th>2020-05-26</th>\n",
              "      <td>21.910000</td>\n",
              "      <td>21.709999</td>\n",
              "      <td>21.719999</td>\n",
              "      <td>21.840000</td>\n",
              "      <td>299400.0</td>\n",
              "      <td>21.840000</td>\n",
              "    </tr>\n",
              "    <tr>\n",
              "      <th>2020-05-27</th>\n",
              "      <td>22.110001</td>\n",
              "      <td>21.520000</td>\n",
              "      <td>22.049999</td>\n",
              "      <td>22.100000</td>\n",
              "      <td>144100.0</td>\n",
              "      <td>22.100000</td>\n",
              "    </tr>\n",
              "    <tr>\n",
              "      <th>2020-05-28</th>\n",
              "      <td>22.230000</td>\n",
              "      <td>21.990000</td>\n",
              "      <td>22.190001</td>\n",
              "      <td>22.059999</td>\n",
              "      <td>381300.0</td>\n",
              "      <td>22.059999</td>\n",
              "    </tr>\n",
              "    <tr>\n",
              "      <th>2020-05-29</th>\n",
              "      <td>22.040001</td>\n",
              "      <td>21.670000</td>\n",
              "      <td>22.040001</td>\n",
              "      <td>21.920000</td>\n",
              "      <td>205400.0</td>\n",
              "      <td>21.920000</td>\n",
              "    </tr>\n",
              "  </tbody>\n",
              "</table>\n",
              "<p>454 rows × 6 columns</p>\n",
              "</div>"
            ],
            "text/plain": [
              "                 High        Low       Open      Close      Volume  Adj Close\n",
              "Date                                                                         \n",
              "2018-08-09  24.709999  24.709999  24.709999  24.709999         0.0  23.665136\n",
              "2018-08-10  24.730000  24.730000  24.730000  24.730000       200.0  23.684292\n",
              "2018-08-13  24.629999  24.480000  24.580000  24.540001   6120300.0  23.502329\n",
              "2018-08-14  24.870001  24.680000  24.680000  24.870001  18982500.0  23.818373\n",
              "2018-08-15  24.530001  24.240000  24.400000  24.309999  13419300.0  23.282051\n",
              "...               ...        ...        ...        ...         ...        ...\n",
              "2020-05-22  21.209999  20.969999  21.070000  21.180000    199600.0  21.180000\n",
              "2020-05-26  21.910000  21.709999  21.719999  21.840000    299400.0  21.840000\n",
              "2020-05-27  22.110001  21.520000  22.049999  22.100000    144100.0  22.100000\n",
              "2020-05-28  22.230000  21.990000  22.190001  22.059999    381300.0  22.059999\n",
              "2020-05-29  22.040001  21.670000  22.040001  21.920000    205400.0  21.920000\n",
              "\n",
              "[454 rows x 6 columns]"
            ]
          },
          "metadata": {
            "tags": []
          },
          "execution_count": 3
        }
      ]
    },
    {
      "cell_type": "code",
      "metadata": {
        "id": "VTj04o1CXd2S",
        "colab_type": "code",
        "colab": {
          "base_uri": "https://localhost:8080/",
          "height": 34
        },
        "outputId": "189e4555-8546-4f12-826e-3686e1af7146"
      },
      "source": [
        "#Get the number of rows & columns\n",
        "df.shape"
      ],
      "execution_count": 4,
      "outputs": [
        {
          "output_type": "execute_result",
          "data": {
            "text/plain": [
              "(454, 6)"
            ]
          },
          "metadata": {
            "tags": []
          },
          "execution_count": 4
        }
      ]
    },
    {
      "cell_type": "code",
      "metadata": {
        "id": "7k6GieY8Xnqh",
        "colab_type": "code",
        "colab": {
          "base_uri": "https://localhost:8080/",
          "height": 364
        },
        "outputId": "d6e2c68c-dd18-468e-90f7-74f7d802ff5a"
      },
      "source": [
        "#Visualize the closing price\n",
        "plt.figure(figsize=(16,8))\n",
        "plt.title('Close Price')\n",
        "plt.plot(df['Close'])\n",
        "plt.xlabel('Date', fontsize=18)\n",
        "plt.ylabel('Close Price IDR (Rp)', fontsize=18)\n",
        "plt.show()"
      ],
      "execution_count": 5,
      "outputs": [
        {
          "output_type": "display_data",
          "data": {
            "image/png": "[encoded data removed]",
            "text/plain": [
              "<Figure size 1152x576 with 1 Axes>"
            ]
          },
          "metadata": {
            "tags": [],
            "needs_background": "light"
          }
        }
      ]
    },
    {
      "cell_type": "code",
      "metadata": {
        "id": "LSq3OrRisaew",
        "colab_type": "code",
        "colab": {
          "base_uri": "https://localhost:8080/",
          "height": 34
        },
        "outputId": "ca29d284-1957-427b-ff23-9258b3907e2f"
      },
      "source": [
        "#Create new df with only close column\n",
        "data = df.filter(['Close'])\n",
        "#Convert to numpy array\n",
        "dataset = data.values\n",
        "#Get number of rows to train model\n",
        "training_data_len = math.ceil(len(dataset) * .8)\n",
        "training_data_len"
      ],
      "execution_count": 6,
      "outputs": [
        {
          "output_type": "execute_result",
          "data": {
            "text/plain": [
              "364"
            ]
          },
          "metadata": {
            "tags": []
          },
          "execution_count": 6
        }
      ]
    },
    {
      "cell_type": "code",
      "metadata": {
        "id": "fOdwBrz0t2rR",
        "colab_type": "code",
        "colab": {
          "base_uri": "https://localhost:8080/",
          "height": 1000
        },
        "outputId": "526c1eae-9476-4910-b8e9-8ea034d36d02"
      },
      "source": [
        "#Scale the data\n",
        "scaler = MinMaxScaler(feature_range=(0,1))\n",
        "scaled_data = scaler.fit_transform(dataset)\n",
        "scaled_data"
      ],
      "execution_count": 7,
      "outputs": [
        {
          "output_type": "execute_result",
          "data": {
            "text/plain": [
              "array([[0.81462131],\n",
              "       [0.816362  ],\n",
              "       [0.799826  ],\n",
              "       [0.82854662],\n",
              "       [0.77980847],\n",
              "       [0.79112274],\n",
              "       [0.82071371],\n",
              "       [0.81984337],\n",
              "       [0.81201045],\n",
              "       [0.82767628],\n",
              "       [0.81462131],\n",
              "       [0.82419491],\n",
              "       [0.84856399],\n",
              "       [0.83724971],\n",
              "       [0.84856399],\n",
              "       [0.83724971],\n",
              "       [0.81201045],\n",
              "       [0.77719761],\n",
              "       [0.77110521],\n",
              "       [0.77458658],\n",
              "       [0.76675367],\n",
              "       [0.76240212],\n",
              "       [0.77632726],\n",
              "       [0.78590069],\n",
              "       [0.78328983],\n",
              "       [0.77893812],\n",
              "       [0.78328983],\n",
              "       [0.81114011],\n",
              "       [0.81549166],\n",
              "       [0.82767628],\n",
              "       [0.81984337],\n",
              "       [0.81723234],\n",
              "       [0.80504788],\n",
              "       [0.79547429],\n",
              "       [0.8033072 ],\n",
              "       [0.80417754],\n",
              "       [0.82680593],\n",
              "       [0.81201045],\n",
              "       [0.80939943],\n",
              "       [0.79547429],\n",
              "       [0.78416017],\n",
              "       [0.77893812],\n",
              "       [0.7728459 ],\n",
              "       [0.70496088],\n",
              "       [0.68059181],\n",
              "       [0.68929506],\n",
              "       [0.68842472],\n",
              "       [0.71888602],\n",
              "       [0.70496088],\n",
              "       [0.68146215],\n",
              "       [0.68059181],\n",
              "       [0.68320283],\n",
              "       [0.66579632],\n",
              "       [0.62228022],\n",
              "       [0.62750211],\n",
              "       [0.61270663],\n",
              "       [0.59617063],\n",
              "       [0.62140988],\n",
              "       [0.63533502],\n",
              "       [0.65622273],\n",
              "       [0.65187119],\n",
              "       [0.66405564],\n",
              "       [0.67188855],\n",
              "       [0.68320283],\n",
              "       [0.67536992],\n",
              "       [0.66057444],\n",
              "       [0.64142725],\n",
              "       [0.64229759],\n",
              "       [0.64490862],\n",
              "       [0.65361187],\n",
              "       [0.65796341],\n",
              "       [0.64490862],\n",
              "       [0.59878149],\n",
              "       [0.6370757 ],\n",
              "       [0.616188  ],\n",
              "       [0.62750211],\n",
              "       [0.61531765],\n",
              "       [0.6466493 ],\n",
              "       [0.65100084],\n",
              "       [0.64926016],\n",
              "       [0.67014787],\n",
              "       [0.64055691],\n",
              "       [0.60835508],\n",
              "       [0.59268926],\n",
              "       [0.56919053],\n",
              "       [0.56396864],\n",
              "       [0.58485635],\n",
              "       [0.58485635],\n",
              "       [0.55613573],\n",
              "       [0.52654477],\n",
              "       [0.5195822 ],\n",
              "       [0.49956483],\n",
              "       [0.47519575],\n",
              "       [0.44386427],\n",
              "       [0.39947783],\n",
              "       [0.44734547],\n",
              "       [0.44908616],\n",
              "       [0.45256736],\n",
              "       [0.46214095],\n",
              "       [0.4804178 ],\n",
              "       [0.47606609],\n",
              "       [0.51523065],\n",
              "       [0.53785905],\n",
              "       [0.55526539],\n",
              "       [0.59268926],\n",
              "       [0.59878149],\n",
              "       [0.59965183],\n",
              "       [0.6066144 ],\n",
              "       [0.616188  ],\n",
              "       [0.62576159],\n",
              "       [0.64403827],\n",
              "       [0.65535239],\n",
              "       [0.6370757 ],\n",
              "       [0.63533502],\n",
              "       [0.64229759],\n",
              "       [0.66927769],\n",
              "       [0.66840735],\n",
              "       [0.67275889],\n",
              "       [0.69625763],\n",
              "       [0.70234986],\n",
              "       [0.69886849],\n",
              "       [0.71714534],\n",
              "       [0.72584859],\n",
              "       [0.71453431],\n",
              "       [0.70409054],\n",
              "       [0.69973883],\n",
              "       [0.68320283],\n",
              "       [0.70147951],\n",
              "       [0.69625763],\n",
              "       [0.7032202 ],\n",
              "       [0.73020014],\n",
              "       [0.74586596],\n",
              "       [0.76762401],\n",
              "       [0.75108784],\n",
              "       [0.76501298],\n",
              "       [0.76327247],\n",
              "       [0.76588333],\n",
              "       [0.77545692],\n",
              "       [0.76501298],\n",
              "       [0.75282853],\n",
              "       [0.75282853],\n",
              "       [0.7467363 ],\n",
              "       [0.73803305],\n",
              "       [0.72671893],\n",
              "       [0.72671893],\n",
              "       [0.74151441],\n",
              "       [0.75282853],\n",
              "       [0.76588333],\n",
              "       [0.7563099 ],\n",
              "       [0.75543955],\n",
              "       [0.77371624],\n",
              "       [0.7728459 ],\n",
              "       [0.76066144],\n",
              "       [0.76240212],\n",
              "       [0.72932979],\n",
              "       [0.72845945],\n",
              "       [0.7467363 ],\n",
              "       [0.73542202],\n",
              "       [0.73977373],\n",
              "       [0.74499562],\n",
              "       [0.76936469],\n",
              "       [0.77110521],\n",
              "       [0.77371624],\n",
              "       [0.77893812],\n",
              "       [0.78241949],\n",
              "       [0.79547429],\n",
              "       [0.78241949],\n",
              "       [0.79199309],\n",
              "       [0.78677103],\n",
              "       [0.80678857],\n",
              "       [0.80504788],\n",
              "       [0.8128808 ],\n",
              "       [0.82158405],\n",
              "       [0.82332457],\n",
              "       [0.82680593],\n",
              "       [0.82158405],\n",
              "       [0.80069617],\n",
              "       [0.80156652],\n",
              "       [0.81026977],\n",
              "       [0.81201045],\n",
              "       [0.82071371],\n",
              "       [0.799826  ],\n",
              "       [0.78416017],\n",
              "       [0.80417754],\n",
              "       [0.80243686],\n",
              "       [0.77719761],\n",
              "       [0.78416017],\n",
              "       [0.77632726],\n",
              "       [0.77719761],\n",
              "       [0.74934716],\n",
              "       [0.76936469],\n",
              "       [0.77719761],\n",
              "       [0.7902524 ],\n",
              "       [0.78590069],\n",
              "       [0.78241949],\n",
              "       [0.79808531],\n",
              "       [0.78241949],\n",
              "       [0.75369887],\n",
              "       [0.76849435],\n",
              "       [0.76501298],\n",
              "       [0.74586596],\n",
              "       [0.74064407],\n",
              "       [0.72845945],\n",
              "       [0.73542202],\n",
              "       [0.7597911 ],\n",
              "       [0.76327247],\n",
              "       [0.77371624],\n",
              "       [0.78764138],\n",
              "       [0.7902524 ],\n",
              "       [0.7902524 ],\n",
              "       [0.77980847],\n",
              "       [0.78416017],\n",
              "       [0.77893812],\n",
              "       [0.78416017],\n",
              "       [0.81201045],\n",
              "       [0.82593559],\n",
              "       [0.85378587],\n",
              "       [0.83986073],\n",
              "       [0.8468233 ],\n",
              "       [0.81462131],\n",
              "       [0.81549166],\n",
              "       [0.816362  ],\n",
              "       [0.82941679],\n",
              "       [0.8337685 ],\n",
              "       [0.83986073],\n",
              "       [0.85465621],\n",
              "       [0.85552656],\n",
              "       [0.8433421 ],\n",
              "       [0.85030467],\n",
              "       [0.85900776],\n",
              "       [0.8598781 ],\n",
              "       [0.85552656],\n",
              "       [0.85726724],\n",
              "       [0.85204519],\n",
              "       [0.84943433],\n",
              "       [0.85465621],\n",
              "       [0.84595296],\n",
              "       [0.8433421 ],\n",
              "       [0.84508262],\n",
              "       [0.84943433],\n",
              "       [0.83289816],\n",
              "       [0.83550919],\n",
              "       [0.8337685 ],\n",
              "       [0.82593559],\n",
              "       [0.81549166],\n",
              "       [0.80504788],\n",
              "       [0.78938206],\n",
              "       [0.75543955],\n",
              "       [0.76414264],\n",
              "       [0.77458658],\n",
              "       [0.80678857],\n",
              "       [0.8033072 ],\n",
              "       [0.78241949],\n",
              "       [0.79808531],\n",
              "       [0.7467363 ],\n",
              "       [0.74064407],\n",
              "       [0.76675367],\n",
              "       [0.77980847],\n",
              "       [0.76588333],\n",
              "       [0.78328983],\n",
              "       [0.77980847],\n",
              "       [0.74760664],\n",
              "       [0.76588333],\n",
              "       [0.76675367],\n",
              "       [0.77806795],\n",
              "       [0.79808531],\n",
              "       [0.799826  ],\n",
              "       [0.78938206],\n",
              "       [0.81201045],\n",
              "       [0.83028714],\n",
              "       [0.83463885],\n",
              "       [0.83724971],\n",
              "       [0.84421228],\n",
              "       [0.84856399],\n",
              "       [0.85030467],\n",
              "       [0.8468233 ],\n",
              "       [0.86074844],\n",
              "       [0.87380324],\n",
              "       [0.86422981],\n",
              "       [0.87554392],\n",
              "       [0.87206272],\n",
              "       [0.8729329 ],\n",
              "       [0.84856399],\n",
              "       [0.84856399],\n",
              "       [0.84769364],\n",
              "       [0.8433421 ],\n",
              "       [0.84160142],\n",
              "       [0.8128808 ],\n",
              "       [0.77893812],\n",
              "       [0.78416017],\n",
              "       [0.79460395],\n",
              "       [0.79286326],\n",
              "       [0.77023504],\n",
              "       [0.78590069],\n",
              "       [0.79808531],\n",
              "       [0.81462131],\n",
              "       [0.81114011],\n",
              "       [0.81549166],\n",
              "       [0.81462131],\n",
              "       [0.82506525],\n",
              "       [0.82245422],\n",
              "       [0.83550919],\n",
              "       [0.83028714],\n",
              "       [0.82680593],\n",
              "       [0.83463885],\n",
              "       [0.84160142],\n",
              "       [0.83986073],\n",
              "       [0.83637936],\n",
              "       [0.83812005],\n",
              "       [0.82854662],\n",
              "       [0.85117485],\n",
              "       [0.86248912],\n",
              "       [0.86248912],\n",
              "       [0.86858135],\n",
              "       [0.87815495],\n",
              "       [0.87815495],\n",
              "       [0.87989547],\n",
              "       [0.88076581],\n",
              "       [0.8868582 ],\n",
              "       [0.88598786],\n",
              "       [0.89730197],\n",
              "       [0.90078334],\n",
              "       [0.8868582 ],\n",
              "       [0.88163615],\n",
              "       [0.88424718],\n",
              "       [0.87554392],\n",
              "       [0.88598786],\n",
              "       [0.88946906],\n",
              "       [0.89817232],\n",
              "       [0.89295043],\n",
              "       [0.87989547],\n",
              "       [0.86510015],\n",
              "       [0.88250649],\n",
              "       [0.87728461],\n",
              "       [0.8868582 ],\n",
              "       [0.8868582 ],\n",
              "       [0.88337683],\n",
              "       [0.89120975],\n",
              "       [0.89817232],\n",
              "       [0.90426454],\n",
              "       [0.91731934],\n",
              "       [0.91906002],\n",
              "       [0.92254139],\n",
              "       [0.91993037],\n",
              "       [0.92602259],\n",
              "       [0.90861625],\n",
              "       [0.9129678 ],\n",
              "       [0.92689294],\n",
              "       [0.92515225],\n",
              "       [0.91557882],\n",
              "       [0.92776328],\n",
              "       [0.93472585],\n",
              "       [0.92950396],\n",
              "       [0.93733687],\n",
              "       [0.93820705],\n",
              "       [0.93733687],\n",
              "       [0.94255876],\n",
              "       [0.94168842],\n",
              "       [0.95300253],\n",
              "       [0.95735424],\n",
              "       [0.96692767],\n",
              "       [0.97911229],\n",
              "       [0.98346383],\n",
              "       [0.98346383],\n",
              "       [0.97563092],\n",
              "       [0.97911229],\n",
              "       [0.97302006],\n",
              "       [0.9469103 ],\n",
              "       [0.96083544],\n",
              "       [0.95300253],\n",
              "       [0.95474321],\n",
              "       [0.92341157],\n",
              "       [0.91818968],\n",
              "       [0.93907739],\n",
              "       [0.95822458],\n",
              "       [0.9695387 ],\n",
              "       [0.9564839 ],\n",
              "       [0.96257613],\n",
              "       [0.97214972],\n",
              "       [0.98346383],\n",
              "       [0.98346383],\n",
              "       [0.99129675],\n",
              "       [0.98868572],\n",
              "       [1.        ],\n",
              "       [0.99738897],\n",
              "       [0.99129675],\n",
              "       [0.94081807],\n",
              "       [0.89295043],\n",
              "       [0.87119238],\n",
              "       [0.78764138],\n",
              "       [0.76327247],\n",
              "       [0.80852909],\n",
              "       [0.78241949],\n",
              "       [0.81984337],\n",
              "       [0.78590069],\n",
              "       [0.74325493],\n",
              "       [0.48128798],\n",
              "       [0.53611836],\n",
              "       [0.44734547],\n",
              "       [0.2132288 ],\n",
              "       [0.38903389],\n",
              "       [0.16536115],\n",
              "       [0.19756314],\n",
              "       [0.07397741],\n",
              "       [0.11227146],\n",
              "       [0.08877289],\n",
              "       [0.        ],\n",
              "       [0.17319407],\n",
              "       [0.25239336],\n",
              "       [0.30461271],\n",
              "       [0.22715394],\n",
              "       [0.2567449 ],\n",
              "       [0.31853785],\n",
              "       [0.23585719],\n",
              "       [0.26805918],\n",
              "       [0.24717147],\n",
              "       [0.33681454],\n",
              "       [0.35509138],\n",
              "       [0.38816355],\n",
              "       [0.41340297],\n",
              "       [0.42123588],\n",
              "       [0.43080931],\n",
              "       [0.3794603 ],\n",
              "       [0.36205395],\n",
              "       [0.43864222],\n",
              "       [0.42993913],\n",
              "       [0.36379464],\n",
              "       [0.41079194],\n",
              "       [0.41601383],\n",
              "       [0.4369017 ],\n",
              "       [0.4664925 ],\n",
              "       [0.49521329],\n",
              "       [0.5596171 ],\n",
              "       [0.50478671],\n",
              "       [0.46562232],\n",
              "       [0.47432541],\n",
              "       [0.48476935],\n",
              "       [0.47519575],\n",
              "       [0.49521329],\n",
              "       [0.52480408],\n",
              "       [0.52741511],\n",
              "       [0.49608346],\n",
              "       [0.44386427],\n",
              "       [0.45430804],\n",
              "       [0.4630113 ],\n",
              "       [0.52393391],\n",
              "       [0.50565706],\n",
              "       [0.52741511],\n",
              "       [0.51261963],\n",
              "       [0.50739774],\n",
              "       [0.56483898],\n",
              "       [0.58746737],\n",
              "       [0.58398601],\n",
              "       [0.57180155]])"
            ]
          },
          "metadata": {
            "tags": []
          },
          "execution_count": 7
        }
      ]
    },
    {
      "cell_type": "code",
      "metadata": {
        "id": "a2A_AX3FuZFH",
        "colab_type": "code",
        "colab": {
          "base_uri": "https://localhost:8080/",
          "height": 255
        },
        "outputId": "18abcb5c-75ca-4706-8ffc-d700ec8c48d1"
      },
      "source": [
        "#Create training data set & scaled training data set\n",
        "train_data = scaled_data[0:training_data_len, :]\n",
        "#Split data\n",
        "x_train = []\n",
        "y_train = []\n",
        "\n",
        "for i in range(60, len(train_data)):\n",
        "  x_train.append(train_data[i-60:i, 0])\n",
        "  y_train.append(train_data[i, 0])\n",
        "  if i<= 60:\n",
        "    print(x_train)\n",
        "    print(y_train)\n",
        "    print()"
      ],
      "execution_count": 9,
      "outputs": [
        {
          "output_type": "stream",
          "text": [
            "[array([0.81462131, 0.816362  , 0.799826  , 0.82854662, 0.77980847,\n",
            "       0.79112274, 0.82071371, 0.81984337, 0.81201045, 0.82767628,\n",
            "       0.81462131, 0.82419491, 0.84856399, 0.83724971, 0.84856399,\n",
            "       0.83724971, 0.81201045, 0.77719761, 0.77110521, 0.77458658,\n",
            "       0.76675367, 0.76240212, 0.77632726, 0.78590069, 0.78328983,\n",
            "       0.77893812, 0.78328983, 0.81114011, 0.81549166, 0.82767628,\n",
            "       0.81984337, 0.81723234, 0.80504788, 0.79547429, 0.8033072 ,\n",
            "       0.80417754, 0.82680593, 0.81201045, 0.80939943, 0.79547429,\n",
            "       0.78416017, 0.77893812, 0.7728459 , 0.70496088, 0.68059181,\n",
            "       0.68929506, 0.68842472, 0.71888602, 0.70496088, 0.68146215,\n",
            "       0.68059181, 0.68320283, 0.66579632, 0.62228022, 0.62750211,\n",
            "       0.61270663, 0.59617063, 0.62140988, 0.63533502, 0.65622273])]\n",
            "[0.6518711854064088]\n",
            "\n"
          ],
          "name": "stdout"
        }
      ]
    },
    {
      "cell_type": "code",
      "metadata": {
        "id": "x-XpIoJjvmJB",
        "colab_type": "code",
        "colab": {}
      },
      "source": [
        "#Convert x_train & y_train to np array\n",
        "x_train, y_train = np.array(x_train), np.array(y_train)\n"
      ],
      "execution_count": 0,
      "outputs": []
    },
    {
      "cell_type": "code",
      "metadata": {
        "id": "BjcsYWA5v3_d",
        "colab_type": "code",
        "colab": {
          "base_uri": "https://localhost:8080/",
          "height": 34
        },
        "outputId": "9f54f3cb-98ab-408d-b3d1-543944aa05f7"
      },
      "source": [
        "#Reshape the data\n",
        "x_train = np.reshape(x_train, (x_train.shape[0], x_train.shape[1], 1))\n",
        "x_train.shape"
      ],
      "execution_count": 12,
      "outputs": [
        {
          "output_type": "execute_result",
          "data": {
            "text/plain": [
              "(304, 60, 1)"
            ]
          },
          "metadata": {
            "tags": []
          },
          "execution_count": 12
        }
      ]
    },
    {
      "cell_type": "code",
      "metadata": {
        "id": "DE2sFhP9wkDr",
        "colab_type": "code",
        "colab": {}
      },
      "source": [
        "#Build LSTM model\n",
        "model = Sequential()\n",
        "model.add(LSTM(50, return_sequences=True, input_shape=(x_train.shape[1], 1)))\n",
        "model.add(LSTM(50, return_sequences=False))\n",
        "model.add(Dense(25))\n",
        "model.add(Dense(1))\n"
      ],
      "execution_count": 0,
      "outputs": []
    },
    {
      "cell_type": "code",
      "metadata": {
        "id": "2AUCZQPSxTdL",
        "colab_type": "code",
        "colab": {}
      },
      "source": [
        "#Compile the Model\n",
        "model.compile(optimizer='adam', loss='mean_squared_error')\n"
      ],
      "execution_count": 0,
      "outputs": []
    },
    {
      "cell_type": "code",
      "metadata": {
        "id": "ZNxRirAdxjqC",
        "colab_type": "code",
        "colab": {
          "base_uri": "https://localhost:8080/",
          "height": 68
        },
        "outputId": "0229d942-4278-4141-8f66-b634800cff8c"
      },
      "source": [
        "#Train the Model\n",
        "model.fit(x_train, y_train, batch_size=1, epochs=1)"
      ],
      "execution_count": 15,
      "outputs": [
        {
          "output_type": "stream",
          "text": [
            "Epoch 1/1\n",
            "304/304 [==============================] - 14s 47ms/step - loss: 0.0096\n"
          ],
          "name": "stdout"
        },
        {
          "output_type": "execute_result",
          "data": {
            "text/plain": [
              "<keras.callbacks.callbacks.History at 0x7f94b0ec8cc0>"
            ]
          },
          "metadata": {
            "tags": []
          },
          "execution_count": 15
        }
      ]
    },
    {
      "cell_type": "code",
      "metadata": {
        "id": "2I_2l5J7yDOi",
        "colab_type": "code",
        "colab": {}
      },
      "source": [
        "#Create testing data set\n",
        "test_data = scaled_data[training_data_len - 60:, :]\n",
        "#Create data sets x_test and y_test\n",
        "x_test = []\n",
        "y_test = dataset[training_data_len:, :]\n",
        "for i in range(60, len(test_data)):\n",
        "  x_test.append(test_data[i-60:i, 0])\n",
        "  "
      ],
      "execution_count": 0,
      "outputs": []
    },
    {
      "cell_type": "code",
      "metadata": {
        "id": "MaTMMQ3WyzaH",
        "colab_type": "code",
        "colab": {}
      },
      "source": [
        "#Convert data to np array\n",
        "x_test = np.array(x_test)"
      ],
      "execution_count": 0,
      "outputs": []
    },
    {
      "cell_type": "code",
      "metadata": {
        "id": "GY04z1_fy9Uf",
        "colab_type": "code",
        "colab": {}
      },
      "source": [
        "#Reshape the data\n",
        "x_test = np.reshape(x_test,(x_test.shape[0], x_test.shape[1], 1))"
      ],
      "execution_count": 0,
      "outputs": []
    },
    {
      "cell_type": "code",
      "metadata": {
        "id": "Wb7SF4TozQsi",
        "colab_type": "code",
        "colab": {}
      },
      "source": [
        "#Get the models predicted price values\n",
        "predictions = model.predict(x_test)\n",
        "predictions = scaler.inverse_transform(predictions)"
      ],
      "execution_count": 0,
      "outputs": []
    },
    {
      "cell_type": "code",
      "metadata": {
        "id": "vKEeH8JQzpD_",
        "colab_type": "code",
        "colab": {
          "base_uri": "https://localhost:8080/",
          "height": 34
        },
        "outputId": "ada6ce73-0822-473c-d221-63ba1d47f713"
      },
      "source": [
        "#Get the root mean sqaured error (RMSE)\n",
        "rmse = np.sqrt(np.mean(predictions - y_test)**2)\n",
        "rmse"
      ],
      "execution_count": 20,
      "outputs": [
        {
          "output_type": "execute_result",
          "data": {
            "text/plain": [
              "0.9885105556911893"
            ]
          },
          "metadata": {
            "tags": []
          },
          "execution_count": 20
        }
      ]
    },
    {
      "cell_type": "code",
      "metadata": {
        "id": "T8vw9-p20CFg",
        "colab_type": "code",
        "colab": {
          "base_uri": "https://localhost:8080/",
          "height": 486
        },
        "outputId": "f2626786-6ae3-4866-f5a7-3c2e45e0b6ff"
      },
      "source": [
        "#Plot the data\n",
        "train = data[:training_data_len]\n",
        "valid = data[training_data_len:]\n",
        "valid['Predictions'] = predictions\n",
        "#Visualize the data\n",
        "plt.figure(figsize=(16,8))\n",
        "plt.title('Model')\n",
        "plt.xlabel('Date', fontsize=18)\n",
        "plt.ylabel('Close Price IDR (Rp)', fontsize=18)\n",
        "plt.plot(train['Close'])\n",
        "plt.plot(valid[['Close', 'Predictions']])\n",
        "plt.legend(['Train', 'Val', 'Predictions'], loc='lower right')\n",
        "plt.show()"
      ],
      "execution_count": 21,
      "outputs": [
        {
          "output_type": "stream",
          "text": [
            "/usr/local/lib/python3.6/dist-packages/ipykernel_launcher.py:4: SettingWithCopyWarning: \n",
            "A value is trying to be set on a copy of a slice from a DataFrame.\n",
            "Try using .loc[row_indexer,col_indexer] = value instead\n",
            "\n",
            "See the caveats in the documentation: https://pandas.pydata.org/pandas-docs/stable/user_guide/indexing.html#returning-a-view-versus-a-copy\n",
            "  after removing the cwd from sys.path.\n"
          ],
          "name": "stderr"
        },
        {
          "output_type": "display_data",
          "data": {
            "image/png": "[encoded data removed]",
            "text/plain": [
              "<Figure size 1152x576 with 1 Axes>"
            ]
          },
          "metadata": {
            "tags": [],
            "needs_background": "light"
          }
        }
      ]
    },
    {
      "cell_type": "code",
      "metadata": {
        "id": "1HvVYhvh1Y6-",
        "colab_type": "code",
        "colab": {
          "base_uri": "https://localhost:8080/",
          "height": 450
        },
        "outputId": "3fb9fd0e-5744-4a3e-a48f-4a7d2735998b"
      },
      "source": [
        "#Show the valid & predicted prices\n",
        "valid"
      ],
      "execution_count": 22,
      "outputs": [
        {
          "output_type": "execute_result",
          "data": {
            "text/html": [
              "<div>\n",
              "<style scoped>\n",
              "    .dataframe tbody tr th:only-of-type {\n",
              "        vertical-align: middle;\n",
              "    }\n",
              "\n",
              "    .dataframe tbody tr th {\n",
              "        vertical-align: top;\n",
              "    }\n",
              "\n",
              "    .dataframe thead th {\n",
              "        text-align: right;\n",
              "    }\n",
              "</style>\n",
              "<table border=\"1\" class=\"dataframe\">\n",
              "  <thead>\n",
              "    <tr style=\"text-align: right;\">\n",
              "      <th></th>\n",
              "      <th>Close</th>\n",
              "      <th>Predictions</th>\n",
              "    </tr>\n",
              "    <tr>\n",
              "      <th>Date</th>\n",
              "      <th></th>\n",
              "      <th></th>\n",
              "    </tr>\n",
              "  </thead>\n",
              "  <tbody>\n",
              "    <tr>\n",
              "      <th>2020-01-22</th>\n",
              "      <td>26.559999</td>\n",
              "      <td>26.448841</td>\n",
              "    </tr>\n",
              "    <tr>\n",
              "      <th>2020-01-23</th>\n",
              "      <td>26.600000</td>\n",
              "      <td>26.490501</td>\n",
              "    </tr>\n",
              "    <tr>\n",
              "      <th>2020-01-24</th>\n",
              "      <td>26.530001</td>\n",
              "      <td>26.528835</td>\n",
              "    </tr>\n",
              "    <tr>\n",
              "      <th>2020-01-27</th>\n",
              "      <td>26.230000</td>\n",
              "      <td>26.559561</td>\n",
              "    </tr>\n",
              "    <tr>\n",
              "      <th>2020-01-28</th>\n",
              "      <td>26.389999</td>\n",
              "      <td>26.570402</td>\n",
              "    </tr>\n",
              "    <tr>\n",
              "      <th>...</th>\n",
              "      <td>...</td>\n",
              "      <td>...</td>\n",
              "    </tr>\n",
              "    <tr>\n",
              "      <th>2020-05-22</th>\n",
              "      <td>21.180000</td>\n",
              "      <td>21.804428</td>\n",
              "    </tr>\n",
              "    <tr>\n",
              "      <th>2020-05-26</th>\n",
              "      <td>21.840000</td>\n",
              "      <td>21.829929</td>\n",
              "    </tr>\n",
              "    <tr>\n",
              "      <th>2020-05-27</th>\n",
              "      <td>22.100000</td>\n",
              "      <td>21.880781</td>\n",
              "    </tr>\n",
              "    <tr>\n",
              "      <th>2020-05-28</th>\n",
              "      <td>22.059999</td>\n",
              "      <td>21.955574</td>\n",
              "    </tr>\n",
              "    <tr>\n",
              "      <th>2020-05-29</th>\n",
              "      <td>21.920000</td>\n",
              "      <td>22.041142</td>\n",
              "    </tr>\n",
              "  </tbody>\n",
              "</table>\n",
              "<p>90 rows × 2 columns</p>\n",
              "</div>"
            ],
            "text/plain": [
              "                Close  Predictions\n",
              "Date                              \n",
              "2020-01-22  26.559999    26.448841\n",
              "2020-01-23  26.600000    26.490501\n",
              "2020-01-24  26.530001    26.528835\n",
              "2020-01-27  26.230000    26.559561\n",
              "2020-01-28  26.389999    26.570402\n",
              "...               ...          ...\n",
              "2020-05-22  21.180000    21.804428\n",
              "2020-05-26  21.840000    21.829929\n",
              "2020-05-27  22.100000    21.880781\n",
              "2020-05-28  22.059999    21.955574\n",
              "2020-05-29  21.920000    22.041142\n",
              "\n",
              "[90 rows x 2 columns]"
            ]
          },
          "metadata": {
            "tags": []
          },
          "execution_count": 22
        }
      ]
    },
    {
      "cell_type": "code",
      "metadata": {
        "id": "dgM97_ZG1m-z",
        "colab_type": "code",
        "colab": {
          "base_uri": "https://localhost:8080/",
          "height": 34
        },
        "outputId": "2a0d3d68-7deb-4938-c2e0-98ffb49892c2"
      },
      "source": [
        "#Get the quote\n",
        "bbca_quote = web.DataReader('BBCA', data_source='yahoo', start='2015-01-01', end='2020-05-28')\n",
        "#create new df\n",
        "new_df = bbca_quote.filter(['Close'])\n",
        "#get the last 60 days closing price & convert df to an array\n",
        "last_60_days = new_df[-60:].values\n",
        "#scale the data to be values between 0 & 1\n",
        "last_60_days_scaled = scaler.transform(last_60_days)\n",
        "#create empty list\n",
        "X_test = []\n",
        "#Append the last 60 days\n",
        "X_test.append(last_60_days_scaled)\n",
        "#convert X_test to np array\n",
        "X_test = np.array(X_test)\n",
        "#Reshape the data\n",
        "X_test = np.reshape(X_test, (X_test.shape[0], X_test.shape[1], 1))\n",
        "#get predicted scaled price\n",
        "pred_price = model.predict(X_test)\n",
        "#undo the scaling\n",
        "pred_price = scaler.inverse_transform(pred_price)\n",
        "print(pred_price)"
      ],
      "execution_count": 23,
      "outputs": [
        {
          "output_type": "stream",
          "text": [
            "[[22.041142]]\n"
          ],
          "name": "stdout"
        }
      ]
    },
    {
      "cell_type": "code",
      "metadata": {
        "id": "WGUaUBxU4PPi",
        "colab_type": "code",
        "colab": {
          "base_uri": "https://localhost:8080/",
          "height": 85
        },
        "outputId": "bba2f95b-abc2-4ccb-c4f4-38c79154eeba"
      },
      "source": [
        "#Get the quote\n",
        "bbca_quote2 = web.DataReader('BBCA', data_source='yahoo', start='2020-05-29', end='2020-05-29')\n",
        "print(bbca_quote2['Close'])"
      ],
      "execution_count": 26,
      "outputs": [
        {
          "output_type": "stream",
          "text": [
            "Date\n",
            "2020-05-29    21.92\n",
            "2020-05-29    21.92\n",
            "Name: Close, dtype: float64\n"
          ],
          "name": "stdout"
        }
      ]
    }
  ]
}